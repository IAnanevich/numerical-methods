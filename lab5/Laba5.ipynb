{
 "cells": [
  {
   "cell_type": "markdown",
   "metadata": {},
   "source": [
    "# Лабораторная работа №5\n",
    "# Решение интегральных уравнений Фредгольма"
   ]
  },
  {
   "cell_type": "markdown",
   "metadata": {},
   "source": [
    "Необходимо решить интегральное уравнение Фредгольма <br>\n",
    "$x(t) + \\int^3_1\\left(\\frac{t}{s^2}-2\\right)x(s)ds = t^2+\\frac{t}{3}-\\frac{1}{3} $ <br>\n",
    "квадратурным методом с тремя и десятью узлами, пользуясь: <br>\n",
    "$\\bullet$формулой трапеций <br>\n",
    "$\\bullet$формулой Гаусса \n",
    "\n",
    "#### Используемые библиотеки"
   ]
  },
  {
   "cell_type": "code",
   "execution_count": 1,
   "metadata": {},
   "outputs": [],
   "source": [
    "import matplotlib.pyplot as plt\n",
    "from typing import Callable\n",
    "import numpy as np\n",
    "import math"
   ]
  },
  {
   "cell_type": "markdown",
   "metadata": {},
   "source": [
    " #### Условия"
   ]
  },
  {
   "cell_type": "code",
   "execution_count": 2,
   "metadata": {},
   "outputs": [],
   "source": [
    "low_lim, up_lim = 1, 3\n",
    "\n",
    "\n",
    "def K(t: float, s: float) -> float:\n",
    "    return t / s**2 - 2\n",
    "\n",
    "\n",
    "def func(t: float) -> float:\n",
    "    return t**2 + t/3 - 1/3"
   ]
  },
  {
   "cell_type": "markdown",
   "metadata": {},
   "source": [
    "#### Функция отрисовки"
   ]
  },
  {
   "cell_type": "code",
   "execution_count": 3,
   "metadata": {},
   "outputs": [],
   "source": [
    "def draw(t: list, u: list):\n",
    "    fig = plt.figure()\n",
    "    plt.title('Fredholm solution')\n",
    "    plt.ylabel('x(t)')\n",
    "    plt.xlabel('t')\n",
    "    l1 = plt.plot(t, u)\n",
    "    fig.legend((l1), ('x'))\n",
    "    plt.grid(True)\n",
    "    plt.show()"
   ]
  },
  {
   "cell_type": "markdown",
   "metadata": {},
   "source": [
    "### Метод трапеций\n",
    "$\\int^b_a f(x)dx = h\\left(\\frac{f_0 + f_n}{2}+\\sum^{n-1}_{i = 1}f_i\\right) $"
   ]
  },
  {
   "cell_type": "code",
   "execution_count": 4,
   "metadata": {},
   "outputs": [],
   "source": [
    "def trapez_method(K: Callable, func: Callable, node: int) -> list and list:\n",
    "    x = np.linspace(low_lim, up_lim, node)\n",
    "    size = len(x)\n",
    "    wt, wj = 0.5, 1\n",
    "    h = (up_lim - low_lim) / (node - 1) \n",
    "    A = np.zeros((size, size))\n",
    "    \n",
    "    for i in range(0, size):\n",
    "        A[i][0] = -h * wt * K(x[i], x[1])\n",
    "        for j in range(2, size - 1):\n",
    "            A[i][j] = -h * wj * K(x[i], x[j])\n",
    "        A[i][size - 1] = -h * wt * K(x[i], x[size - 1])\n",
    "        A[i][i] += 1\n",
    "    \n",
    "    B = np.zeros((size, 1))\n",
    "    for j in range(0, size):\n",
    "        B[j][0] = func(x[j])\n",
    "    return np.linalg.solve(A, B), x"
   ]
  },
  {
   "cell_type": "markdown",
   "metadata": {},
   "source": [
    "### Результаты"
   ]
  },
  {
   "cell_type": "code",
   "execution_count": 5,
   "metadata": {},
   "outputs": [
    {
     "data": {
      "image/png": "[encoded data removed]",
      "text/plain": [
       "<Figure size 432x288 with 1 Axes>"
      ]
     },
     "metadata": {
      "needs_background": "light"
     },
     "output_type": "display_data"
    }
   ],
   "source": [
    "x, t = trapez_method(K=K, func=func, node=3) # для 3х узлов\n",
    "draw(t, x)"
   ]
  },
  {
   "cell_type": "code",
   "execution_count": 6,
   "metadata": {},
   "outputs": [
    {
     "data": {
      "image/png": "[encoded data removed]",
      "text/plain": [
       "<Figure size 432x288 with 1 Axes>"
      ]
     },
     "metadata": {
      "needs_background": "light"
     },
     "output_type": "display_data"
    }
   ],
   "source": [
    "x, t = trapez_method(K=K, func=func, node=10) # для 10 узлов\n",
    "draw(t, x)"
   ]
  },
  {
   "cell_type": "markdown",
   "metadata": {},
   "source": [
    "### Формула Гаусса\n",
    "$\\int^b_a f(x)dx = \\frac{b - a}{2}\\sum^{n}_{i = 1}c_i f(s_i),$ <br>где\n",
    "$s_i = \\frac{a+b+(b-a)x_i}{2},$ <br>где $x_i -$ корни уравнения Лежандра"
   ]
  },
  {
   "cell_type": "code",
   "execution_count": 7,
   "metadata": {},
   "outputs": [],
   "source": [
    "def gauss_3(K: Callable, func: Callable) -> list and list:\n",
    "    x = np.linspace(low_lim, up_lim, 3)\n",
    "    xt = [(low_lim + up_lim) / 2] * 3\n",
    "    w = [- math.sqrt(3. / 5), 0, math.sqrt(3. / 5)]\n",
    "    cj, ct = 5. / 9, 8. / 9\n",
    "    h = (up_lim - low_lim) / 2 \n",
    "    \n",
    "    for i in range(3):\n",
    "        xt[i] += w[i] * h\n",
    "    \n",
    "    size = len(xt)\n",
    "    A = np.zeros((size, size))\n",
    "    \n",
    "    for i in range(0, size):\n",
    "        A[i][0] = -h * cj * K(xt[i], xt[1])\n",
    "        for j in range(2, size - 1):\n",
    "            A[i][j] = -h * ct * K(xt[i], xt[j])\n",
    "        A[i][size - 1] = -h * cj * K(xt[i], xt[size - 1])\n",
    "        A[i][i] += 1\n",
    "    \n",
    "    B = np.zeros((size, 1))\n",
    "    for j in range(0, size):\n",
    "        B[j][0] = func(x[j])\n",
    "    return np.linalg.solve(A, B), x\n",
    "\n",
    "\n",
    "def gauss_10(K: Callable, func: Callable) -> list and list:\n",
    "    x = np.linspace(low_lim, up_lim, 10)\n",
    "    xt = [(low_lim + up_lim) / 2] * 10\n",
    "    w = [\n",
    "        -0.973906528517172,\n",
    "        -0.865063366688985,\n",
    "        -0.679409568299024,\n",
    "        -0.433395394129244,\n",
    "        -0.148874338981631,\n",
    "        +0.148874338981631,\n",
    "        +0.433395394129244,\n",
    "        +0.679409568299024,\n",
    "        +0.865063366688985,\n",
    "        +0.973906528517172\n",
    "    ]\n",
    "    \n",
    "    c = [\n",
    "        0.066671344308688,\n",
    "        0.149451349159581,\n",
    "        0.219086362515982,\n",
    "        0.269266719309996,\n",
    "        0.295524224714753,\n",
    "        0.295524224714753,\n",
    "        0.269266719309996,\n",
    "        0.219086362515982,\n",
    "        0.149451349159581,\n",
    "        0.066671344308688\n",
    "    ]\n",
    "    \n",
    "    h = (up_lim - low_lim) / 9\n",
    "    \n",
    "    for i in range(10):\n",
    "        xt[i] += w[i] * (up_lim - low_lim) / 2\n",
    "    \n",
    "    size = len(xt)\n",
    "    A = np.zeros((size, size))\n",
    "    \n",
    "    for i in range(0, size):\n",
    "        for j in range(0, size):\n",
    "            A[i][j] = -(up_lim - low_lim) / 2 * c[j] * K(xt[i], xt[j])\n",
    "        A[i][i] += 1\n",
    "    \n",
    "    B = np.zeros((size, 1))\n",
    "    for j in range(0, size):\n",
    "        B[j][0] = func(x[j])\n",
    "    return np.linalg.solve(A, B), x"
   ]
  },
  {
   "cell_type": "markdown",
   "metadata": {},
   "source": [
    "### Результаты"
   ]
  },
  {
   "cell_type": "code",
   "execution_count": 8,
   "metadata": {},
   "outputs": [
    {
     "data": {
      "image/png": "[encoded data removed]",
      "text/plain": [
       "<Figure size 432x288 with 1 Axes>"
      ]
     },
     "metadata": {
      "needs_background": "light"
     },
     "output_type": "display_data"
    }
   ],
   "source": [
    "x, t = gauss_3(K=K, func=func) # для 3х узлов\n",
    "draw(t, x)"
   ]
  },
  {
   "cell_type": "code",
   "execution_count": 9,
   "metadata": {},
   "outputs": [
    {
     "data": {
      "image/png": "[encoded data removed]",
      "text/plain": [
       "<Figure size 432x288 with 1 Axes>"
      ]
     },
     "metadata": {
      "needs_background": "light"
     },
     "output_type": "display_data"
    }
   ],
   "source": [
    "x, t = gauss_10(K=K, func=func) # для 10 узлов\n",
    "draw(t, x)"
   ]
  }
 ],
 "metadata": {
  "kernelspec": {
   "display_name": "Python 3",
   "language": "python",
   "name": "python3"
  },
  "language_info": {
   "codemirror_mode": {
    "name": "ipython",
    "version": 3
   },
   "file_extension": ".py",
   "mimetype": "text/x-python",
   "name": "python",
   "nbconvert_exporter": "python",
   "pygments_lexer": "ipython3",
   "version": "3.8.6"
  }
 },
 "nbformat": 4,
 "nbformat_minor": 4
}
